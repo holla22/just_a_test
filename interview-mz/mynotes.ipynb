{
 "metadata": {
  "language_info": {
   "codemirror_mode": {
    "name": "ipython",
    "version": 3
   },
   "file_extension": ".py",
   "mimetype": "text/x-python",
   "name": "python",
   "nbconvert_exporter": "python",
   "pygments_lexer": "ipython3",
   "version": "3.7.4-final"
  },
  "orig_nbformat": 2,
  "kernelspec": {
   "name": "python3",
   "display_name": "Python 3",
   "language": "python"
  }
 },
 "nbformat": 4,
 "nbformat_minor": 2,
 "cells": [
  {
   "cell_type": "code",
   "execution_count": 121,
   "metadata": {},
   "outputs": [],
   "source": [
    "import pandas as pd\n",
    "import os"
   ]
  },
  {
   "cell_type": "code",
   "execution_count": 66,
   "metadata": {},
   "outputs": [
    {
     "output_type": "execute_result",
     "data": {
      "text/plain": [
       "<bound method NDFrame.to_json of      0    1      2     3    4    5    6\n",
       "0  0.1  0.9  0.123  0.99  0.5  1.0  0.0\n",
       "1  0.2  1.8  0.246  1.98  1.0  2.0  0.0\n",
       "2  0.3  2.7  0.369  2.97  1.5  3.0  0.0>"
      ]
     },
     "metadata": {},
     "execution_count": 66
    }
   ],
   "source": [
    "\"\"\" \n",
    "Your original weekly results for the next three weeks are:\n",
    "1,1,1,1,1,1,1\n",
    "2,2,2,2,2,2,2\n",
    "3,3,3,3,3,3,3\n",
    "Your modified weekly results for the next three weeks are:\n",
    "0.1,0.9,0.123,0.99,0.5,1.0,0\n",
    "0.2,1.8,0.246,1.98,1.0,2.0,0\n",
    "0.3,2.7,0.369,2.97,1.5,3.0,0    \n",
    "\n",
    "* In order to create this message, the backend should create a 3*7 Pandas dataframe (which contains the 'original' values as per above) and then copy and modify these values by multiplying them with the list of comma separated values to get the desired modified resultset (again, as per the example above). \n",
    "\n",
    "\"\"\"\n",
    "\n",
    "\n",
    "aList = [0.1,0.9,0.123,0.99,0.5,1.0,0]\n",
    "\n",
    "df = pd.DataFrame(aList)\n",
    "\n",
    "df[0] = df * 1\n",
    "df[1] = df * 2\n",
    "df[2] = df[1] * 1.5\n",
    "\n",
    "#df[2] = df[1] * df[1]\n",
    "\n",
    "df_transposed = df.T\n",
    "\n",
    "df_transposed.to_json"
   ]
  },
  {
   "cell_type": "code",
   "execution_count": 26,
   "metadata": {},
   "outputs": [
    {
     "output_type": "execute_result",
     "data": {
      "text/plain": [
       "' Lets test REST and convert to LIST '"
      ]
     },
     "metadata": {},
     "execution_count": 26
    }
   ],
   "source": [
    "\"\"\" Lets test REST and convert to LIST \"\"\""
   ]
  },
  {
   "cell_type": "code",
   "execution_count": 159,
   "metadata": {},
   "outputs": [
    {
     "output_type": "execute_result",
     "data": {
      "text/plain": [
       "     0    1      2     3    4    5    6\n",
       "0  0.1  0.9  0.123  0.99  0.5  1.0  0.0\n",
       "1  0.2  1.8  0.246  1.98  1.0  2.0  0.0\n",
       "2  0.3  2.7  0.369  2.97  1.5  3.0  0.0"
      ],
      "text/html": "<div>\n<style scoped>\n    .dataframe tbody tr th:only-of-type {\n        vertical-align: middle;\n    }\n\n    .dataframe tbody tr th {\n        vertical-align: top;\n    }\n\n    .dataframe thead th {\n        text-align: right;\n    }\n</style>\n<table border=\"1\" class=\"dataframe\">\n  <thead>\n    <tr style=\"text-align: right;\">\n      <th></th>\n      <th>0</th>\n      <th>1</th>\n      <th>2</th>\n      <th>3</th>\n      <th>4</th>\n      <th>5</th>\n      <th>6</th>\n    </tr>\n  </thead>\n  <tbody>\n    <tr>\n      <td>0</td>\n      <td>0.1</td>\n      <td>0.9</td>\n      <td>0.123</td>\n      <td>0.99</td>\n      <td>0.5</td>\n      <td>1.0</td>\n      <td>0.0</td>\n    </tr>\n    <tr>\n      <td>1</td>\n      <td>0.2</td>\n      <td>1.8</td>\n      <td>0.246</td>\n      <td>1.98</td>\n      <td>1.0</td>\n      <td>2.0</td>\n      <td>0.0</td>\n    </tr>\n    <tr>\n      <td>2</td>\n      <td>0.3</td>\n      <td>2.7</td>\n      <td>0.369</td>\n      <td>2.97</td>\n      <td>1.5</td>\n      <td>3.0</td>\n      <td>0.0</td>\n    </tr>\n  </tbody>\n</table>\n</div>"
     },
     "metadata": {},
     "execution_count": 159
    }
   ],
   "source": [
    "import json\n",
    "\n",
    "# I'm asuming string values are being passed and not straight out float values\n",
    "json_array = '{ \"0\": \"0.1\", \"1\":\"0.9\", \"2\":\"0.123\", \"3\":\"0.99\" , \"4\":\"0.5\" , \"5\":\"1.0\" , \"6\":\"0\" }'\n",
    "\n",
    "# setup original values in a DataFrame\n",
    "# asuming that this is already a set of values and not giving from the user\n",
    "df_o = pd.DataFrame([1,1,1,1,1,1,1])\n",
    "df_o[1] = [2,2,2,2,2,2,2]\n",
    "df_o[2] = [3,3,3,3,3,3,3]\n",
    "\n",
    "jl = json.loads(json_array)\n",
    "#print(jl)\n",
    "aList = []\n",
    "for v in jl.values():\n",
    "    #print(v)\n",
    "    aList.append(float(v))\n",
    "\n",
    "#print(aList)\n",
    "\n",
    "# given value from rest\n",
    "df = pd.DataFrame(aList)\n",
    "\n",
    "# lets multiple with original dataframe\n",
    "# asuming that I should multiply the the original values with the users given value to get the results\n",
    "df[0] = df[0] * df_o[0]\n",
    "df[1] = df[0] * df_o[1]\n",
    "df[2] = df[0] * df_o[2]\n",
    "\n",
    "# lets transpose to get 3x7 matrix\n",
    "df.T\n"
   ]
  },
  {
   "cell_type": "code",
   "execution_count": 133,
   "metadata": {},
   "outputs": [
    {
     "output_type": "execute_result",
     "data": {
      "text/plain": [
       "\"it looks like we are forcasting values for 3 weeks according to the task, I'm asuming the original values are already set values and not given by a user.\\n\\nIt could also be that the orignial values are just the week number repeated * 7. For now hardcoded into a pandas DF \\n\\nI'm also asuming that the values could change so the but the mutliplication stays the same, with simular output for 3 weeks.\""
      ]
     },
     "metadata": {},
     "execution_count": 133
    }
   ],
   "source": [
    "\"\"\"it looks like we are forcasting values for 3 weeks according to the task, I'm asuming the original values are already set values and not given by a user.\n",
    "\n",
    "It could also be that the orignial values are just the week number repeated * 7. For now hardcoded into a pandas DF \n",
    "\n",
    "I'm also asuming that the values could change so the but the mutliplication stays the same, with simular output for 3 weeks.\"\"\""
   ]
  },
  {
   "cell_type": "code",
   "execution_count": 167,
   "metadata": {},
   "outputs": [
    {
     "output_type": "stream",
     "name": "stdout",
     "text": [
      "0    0.300\n1    2.700\n2    0.369\n3    2.970\n4    1.500\n5    3.000\n6    0.000\nName: 2, dtype: float64\n"
     ]
    },
    {
     "output_type": "error",
     "ename": "AttributeError",
     "evalue": "'Series' object has no attribute 'decimal'",
     "traceback": [
      "\u001b[0;31m---------------------------------------------------------------------------\u001b[0m",
      "\u001b[0;31mAttributeError\u001b[0m                            Traceback (most recent call last)",
      "\u001b[0;32m<ipython-input-167-543cfec2c8ee>\u001b[0m in \u001b[0;36m<module>\u001b[0;34m\u001b[0m\n\u001b[1;32m     13\u001b[0m \u001b[0;34m\u001b[0m\u001b[0m\n\u001b[1;32m     14\u001b[0m \u001b[0mprint\u001b[0m\u001b[0;34m(\u001b[0m\u001b[0mdf\u001b[0m\u001b[0;34m[\u001b[0m\u001b[0;36m2\u001b[0m\u001b[0;34m]\u001b[0m\u001b[0;34m)\u001b[0m\u001b[0;34m\u001b[0m\u001b[0;34m\u001b[0m\u001b[0m\n\u001b[0;32m---> 15\u001b[0;31m \u001b[0mprint\u001b[0m\u001b[0;34m(\u001b[0m\u001b[0mround\u001b[0m\u001b[0;34m(\u001b[0m\u001b[0mdf\u001b[0m\u001b[0;34m[\u001b[0m\u001b[0;36m2\u001b[0m\u001b[0;34m]\u001b[0m\u001b[0;34m.\u001b[0m\u001b[0mastype\u001b[0m\u001b[0;34m(\u001b[0m\u001b[0mstr\u001b[0m\u001b[0;34m)\u001b[0m\u001b[0;34m.\u001b[0m\u001b[0mdecimal\u001b[0m\u001b[0;34m(\u001b[0m\u001b[0;36m2\u001b[0m\u001b[0;34m)\u001b[0m\u001b[0;34m,\u001b[0m\u001b[0;36m3\u001b[0m\u001b[0;34m)\u001b[0m\u001b[0;34m)\u001b[0m\u001b[0;34m\u001b[0m\u001b[0;34m\u001b[0m\u001b[0m\n\u001b[0m",
      "\u001b[0;32m/usr/local/anaconda3/lib/python3.7/site-packages/pandas/core/generic.py\u001b[0m in \u001b[0;36m__getattr__\u001b[0;34m(self, name)\u001b[0m\n\u001b[1;32m   5177\u001b[0m             \u001b[0;32mif\u001b[0m \u001b[0mself\u001b[0m\u001b[0;34m.\u001b[0m\u001b[0m_info_axis\u001b[0m\u001b[0;34m.\u001b[0m\u001b[0m_can_hold_identifiers_and_holds_name\u001b[0m\u001b[0;34m(\u001b[0m\u001b[0mname\u001b[0m\u001b[0;34m)\u001b[0m\u001b[0;34m:\u001b[0m\u001b[0;34m\u001b[0m\u001b[0;34m\u001b[0m\u001b[0m\n\u001b[1;32m   5178\u001b[0m                 \u001b[0;32mreturn\u001b[0m \u001b[0mself\u001b[0m\u001b[0;34m[\u001b[0m\u001b[0mname\u001b[0m\u001b[0;34m]\u001b[0m\u001b[0;34m\u001b[0m\u001b[0;34m\u001b[0m\u001b[0m\n\u001b[0;32m-> 5179\u001b[0;31m             \u001b[0;32mreturn\u001b[0m \u001b[0mobject\u001b[0m\u001b[0;34m.\u001b[0m\u001b[0m__getattribute__\u001b[0m\u001b[0;34m(\u001b[0m\u001b[0mself\u001b[0m\u001b[0;34m,\u001b[0m \u001b[0mname\u001b[0m\u001b[0;34m)\u001b[0m\u001b[0;34m\u001b[0m\u001b[0;34m\u001b[0m\u001b[0m\n\u001b[0m\u001b[1;32m   5180\u001b[0m \u001b[0;34m\u001b[0m\u001b[0m\n\u001b[1;32m   5181\u001b[0m     \u001b[0;32mdef\u001b[0m \u001b[0m__setattr__\u001b[0m\u001b[0;34m(\u001b[0m\u001b[0mself\u001b[0m\u001b[0;34m,\u001b[0m \u001b[0mname\u001b[0m\u001b[0;34m,\u001b[0m \u001b[0mvalue\u001b[0m\u001b[0;34m)\u001b[0m\u001b[0;34m:\u001b[0m\u001b[0;34m\u001b[0m\u001b[0;34m\u001b[0m\u001b[0m\n",
      "\u001b[0;31mAttributeError\u001b[0m: 'Series' object has no attribute 'decimal'"
     ]
    }
   ],
   "source": [
    "\n",
    "\n",
    "\n",
    "\n",
    "message_string1 = \"Your original weekly results for the next three weeks are: <br> \"\n",
    "message_string1 += df_o[0].astype(str).to_string(index=False).replace('\\n',',').replace(' ','') + \" <br> \"\n",
    "message_string1 += df_o[1].astype(str).to_string(index=False).replace('\\n',',').replace(' ','') + \" <br>\"\n",
    "message_string1 += df_o[2].astype(str).to_string(index=False).replace('\\n',',').replace(' ','') + \" <br>\"\n",
    "message_string1 += \"Your modified weekly results for the next three weeks are: <br> \"\n",
    "message_string1 += df[0].astype(str).to_string(index=False).replace('\\n',',').replace(' ','')  + \" <br> \"\n",
    "message_string1 += df[1].astype(str).to_string(index=False).replace('\\n',',').replace(' ','')  + \" <br>\"\n",
    "message_string1 += df[2].astype(str).to_string(index=False).replace('\\n',',').replace(' ','')  + \" <br>\"\n",
    "\n",
    "\n",
    "\n",
    "message_string1"
   ]
  },
  {
   "cell_type": "code",
   "execution_count": 148,
   "metadata": {},
   "outputs": [
    {
     "output_type": "stream",
     "name": "stdout",
     "text": [
      "1,1,1,1,1,1,1\n"
     ]
    }
   ],
   "source": [
    "df_o_0_string = df_o[0].to_string(index=False)\n",
    "fixed = df_o_0_string.replace('\\n',',').replace(' ','') \n",
    "print(fixed)"
   ]
  },
  {
   "cell_type": "code",
   "execution_count": 156,
   "metadata": {},
   "outputs": [
    {
     "output_type": "execute_result",
     "data": {
      "text/plain": [
       "'0.1,0.9,0.123,0.99,0.5,1.0,0.0'"
      ]
     },
     "metadata": {},
     "execution_count": 156
    }
   ],
   "source": [
    "\n",
    "df[0].astype(str).to_string(index=False).replace('\\n',',').replace(' ','') "
   ]
  },
  {
   "cell_type": "code",
   "execution_count": null,
   "metadata": {},
   "outputs": [],
   "source": []
  }
 ]
}